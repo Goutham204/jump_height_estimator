{
 "cells": [
  {
   "cell_type": "code",
   "execution_count": 1,
   "id": "703dd9f8-172d-419f-b068-ebe495f8adf4",
   "metadata": {},
   "outputs": [],
   "source": [
    "import tkinter as tk\n",
    "from tkinter import Label\n",
    "from tkinter import filedialog\n",
    "import cv2\n",
    "import mediapipe as mp\n",
    "from PIL import Image, ImageTk"
   ]
  },
  {
   "cell_type": "code",
   "execution_count": 3,
   "id": "0d2fb672-5a38-4313-a214-9a366853433f",
   "metadata": {},
   "outputs": [],
   "source": [
    "mp_pose = mp.solutions.pose\n",
    "pose = mp_pose.Pose()"
   ]
  },
  {
   "cell_type": "code",
   "execution_count": 5,
   "id": "3639d825-b2c0-46f7-b602-15fe19a98ae9",
   "metadata": {},
   "outputs": [],
   "source": [
    "cap = None\n",
    "init_y = None\n",
    "min_y = 1.0\n",
    "running = False\n",
    "\n",
    "def frame_pro(frame):\n",
    "    global init_y, min_y\n",
    "    color_frame = cv2.cvtColor(frame, cv2.COLOR_BGR2RGB)\n",
    "    results = pose.process(color_frame)\n",
    "\n",
    "    if results.pose_landmarks:\n",
    "        hip = results.pose_landmarks.landmark[mp_pose.PoseLandmark.LEFT_HIP]\n",
    "        y = hip.y\n",
    "\n",
    "        if init_y is None:\n",
    "            init_y = y\n",
    "        else:\n",
    "            min_y = min(min_y, y)\n",
    "        mp.solutions.drawing_utils.draw_landmarks(frame, results.pose_landmarks, mp_pose.POSE_CONNECTIONS)\n",
    "    return frame"
   ]
  },
  {
   "cell_type": "code",
   "execution_count": 7,
   "id": "6158cb52-d3eb-485d-ab39-15197a7416ab",
   "metadata": {},
   "outputs": [],
   "source": [
    "def video():\n",
    "    global cap, running\n",
    "\n",
    "    if cap.isOpened():\n",
    "        ret, frame = cap.read()\n",
    "        if ret:\n",
    "            frame = cv2.resize(frame, (640, 480))\n",
    "            frame = frame_pro(frame)\n",
    "            img= cv2. cvtColor(frame, cv2.COLOR_BGR2RGB)\n",
    "            img = Image.fromarray(img)\n",
    "            imgtk = ImageTk.PhotoImage(image=img)\n",
    "\n",
    "            video_label.imgtk = imgtk\n",
    "            video_label.configure(image=imgtk)\n",
    "    if running:\n",
    "        video_label.after(10, video)\n",
    "    else:\n",
    "        result()"
   ]
  },
  {
   "cell_type": "code",
   "execution_count": 9,
   "id": "96a28f4c-d3ad-4498-9253-5fccc92e9cfd",
   "metadata": {},
   "outputs": [],
   "source": [
    "def realtime():\n",
    "    global cap, running, init_y, min_y\n",
    "    reset()\n",
    "    cap = cv2.VideoCapture(0)\n",
    "    running = True\n",
    "    video()\n",
    "\n",
    "def upload_video():\n",
    "    global cap, running, init_y, min_y\n",
    "    reset()\n",
    "    video_path = filedialog.askopenfilename(filetypes = [(\"Video Files\", \"*.mp4 *.avi\")])\n",
    "    if video_path:\n",
    "        cap = cv2.VideoCapture(video_path)\n",
    "        running = True\n",
    "        video()"
   ]
  },
  {
   "cell_type": "code",
   "execution_count": 11,
   "id": "b8a7069e-d9fd-4dae-b39a-f79833fffaa0",
   "metadata": {},
   "outputs": [],
   "source": [
    "def stop_video():\n",
    "    global running\n",
    "    running = False\n",
    "    if cap:\n",
    "        cap.release()\n",
    "\n",
    "def reset():\n",
    "    global init_y, min_y\n",
    "    init_y = None\n",
    "    min_y = 1.0\n",
    "    result_label.config(text=\"\")\n",
    "    video_label.config(image=\"\")"
   ]
  },
  {
   "cell_type": "code",
   "execution_count": 13,
   "id": "27d52c0f-fcbe-4bc9-b62a-777bffd2b0ff",
   "metadata": {},
   "outputs": [],
   "source": [
    "def result():\n",
    "    global init_y, min_y\n",
    "    if init_y is not None and min_y is not None:\n",
    "        jump_height = init_y - min_y\n",
    "        result_label.config(text=f\"Jump Height : {jump_height:.3f}\")"
   ]
  },
  {
   "cell_type": "code",
   "execution_count": 15,
   "id": "38f8a753-c981-4254-b606-b73cde426f6f",
   "metadata": {},
   "outputs": [],
   "source": [
    "root = tk.Tk()\n",
    "root.title(\"Jump Height Estimator\")\n",
    "root.geometry(\"400x350\")\n",
    "\n",
    "heading = Label(root,text=\"Jump Height Estimator\",font=(\"Times New Roman\", 24, \"bold\"),justify=\"center\",fg=\"saddle brown\")\n",
    "heading.pack(pady=10) \n",
    "\n",
    "btn_realtime = tk.Button(root, text=\"Real-Time Video\", command=realtime, width=30, height= 3)\n",
    "btn_realtime.pack(pady=10)\n",
    "\n",
    "btn_upload = tk.Button(root, text=\"Video Upload\", command=upload_video, width=30, height= 3)\n",
    "btn_upload.pack(pady=10)\n",
    "\n",
    "btn_frame = tk.Frame(root)\n",
    "btn_frame.pack(pady=10)\n",
    "\n",
    "btn_stop = tk.Button(btn_frame, text=\"Stop\", command=stop_video, width=15, height= 2)\n",
    "btn_stop.pack(side=\"left\", padx=5)\n",
    "\n",
    "btn_reset = tk.Button(btn_frame, text=\"Reset\", command=reset, width=15, height= 2)\n",
    "btn_reset.pack(side=\"left\", padx=5)\n",
    "\n",
    "video_label = tk.Label(root)\n",
    "video_label.pack()\n",
    "\n",
    "result_label = tk.Label(root, text=\"\", font=(\"Times New Roman\", 16))\n",
    "result_label.pack(pady=10)\n",
    "\n",
    "root.mainloop()"
   ]
  },
  {
   "cell_type": "code",
   "execution_count": null,
   "id": "eddaa745-533e-4d58-8aca-f019deae753f",
   "metadata": {},
   "outputs": [],
   "source": []
  }
 ],
 "metadata": {
  "kernelspec": {
   "display_name": "Python 3 (ipykernel)",
   "language": "python",
   "name": "python3"
  },
  "language_info": {
   "codemirror_mode": {
    "name": "ipython",
    "version": 3
   },
   "file_extension": ".py",
   "mimetype": "text/x-python",
   "name": "python",
   "nbconvert_exporter": "python",
   "pygments_lexer": "ipython3",
   "version": "3.12.7"
  }
 },
 "nbformat": 4,
 "nbformat_minor": 5
}
